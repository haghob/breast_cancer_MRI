{
 "cells": [
  {
   "cell_type": "code",
   "execution_count": 1,
   "id": "e556b7e7",
   "metadata": {},
   "outputs": [],
   "source": [
    "import os\n",
    "from imutils import paths\n",
    "import random\n",
    "import shutil\n",
    "import numpy as np "
   ]
  },
  {
   "cell_type": "code",
   "execution_count": 2,
   "id": "35593536",
   "metadata": {},
   "outputs": [
    {
     "name": "stderr",
     "output_type": "stream",
     "text": [
      "2023-03-19 22:29:02.245145: I tensorflow/core/platform/cpu_feature_guard.cc:193] This TensorFlow binary is optimized with oneAPI Deep Neural Network Library (oneDNN) to use the following CPU instructions in performance-critical operations:  AVX2 FMA\n",
      "To enable them in other operations, rebuild TensorFlow with the appropriate compiler flags.\n",
      "2023-03-19 22:29:04.439184: W tensorflow/compiler/xla/stream_executor/platform/default/dso_loader.cc:64] Could not load dynamic library 'libnvinfer.so.7'; dlerror: libnvinfer.so.7: cannot open shared object file: No such file or directory; LD_LIBRARY_PATH: /home/haghob/Documents/ydays_project/envsp/lib/python3.10/site-packages/cv2/../../lib64:/usr/local/cuda-11.2/lib64:\n",
      "2023-03-19 22:29:04.439307: W tensorflow/compiler/xla/stream_executor/platform/default/dso_loader.cc:64] Could not load dynamic library 'libnvinfer_plugin.so.7'; dlerror: libnvinfer_plugin.so.7: cannot open shared object file: No such file or directory; LD_LIBRARY_PATH: /home/haghob/Documents/ydays_project/envsp/lib/python3.10/site-packages/cv2/../../lib64:/usr/local/cuda-11.2/lib64:\n",
      "2023-03-19 22:29:04.439316: W tensorflow/compiler/tf2tensorrt/utils/py_utils.cc:38] TF-TRT Warning: Cannot dlopen some TensorRT libraries. If you would like to use Nvidia GPU with TensorRT, please make sure the missing libraries mentioned above are installed properly.\n"
     ]
    }
   ],
   "source": [
    "from tensorflow import keras\n",
    "from tensorflow.keras.models import Sequential\n",
    "from tensorflow.keras.layers import BatchNormalization\n",
    "from tensorflow.keras.layers import SeparableConv2D\n",
    "from tensorflow.keras.layers import MaxPooling2D\n",
    "from tensorflow.keras.layers import Activation\n",
    "from tensorflow.keras.layers import Flatten\n",
    "from tensorflow.keras.layers import Dropout\n",
    "from tensorflow.keras.layers import Dense\n",
    "from tensorflow.keras import backend as K\n"
   ]
  },
  {
   "cell_type": "code",
   "execution_count": 3,
   "id": "ca8a9807",
   "metadata": {},
   "outputs": [],
   "source": [
    "from tensorflow.keras.preprocessing.image import ImageDataGenerator\n",
    "from tensorflow.keras.callbacks import LearningRateScheduler\n",
    "from tensorflow.keras.optimizers import Adagrad\n",
    "from tensorflow.keras.optimizers import Adam"
   ]
  },
  {
   "cell_type": "code",
   "execution_count": 4,
   "id": "057e84b6",
   "metadata": {},
   "outputs": [],
   "source": [
    "import matplotlib\n",
    "matplotlib.use(\"Agg\")\n",
    "\n",
    "\n",
    "\n",
    "from tensorflow.keras.utils import to_categorical\n",
    "from sklearn.metrics import classification_report\n",
    "\n",
    "import tensorflow as tf\n",
    "\n",
    "\n",
    "\n",
    "from sklearn.metrics import confusion_matrix\n",
    "from imutils import paths\n",
    "import matplotlib.pyplot as plt\n",
    "import argparse\n",
    "import easydict"
   ]
  },
  {
   "cell_type": "code",
   "execution_count": 5,
   "id": "3beeee1f",
   "metadata": {},
   "outputs": [],
   "source": [
    "ORIG_INPUT_DATASET = \"/home/haghob/Documents/ydays_project/breast_cancer_MRI/IDC_regular_ps50_idx5\"\n",
    "\n",
    "#Initialize the base path to the new directory that will contain our images after computing the training and testing split\n",
    "BASE_PATH = \"/home/haghob/Documents/ydays_project/breast_cancer_MRI/idc\""
   ]
  },
  {
   "cell_type": "code",
   "execution_count": 6,
   "id": "91671c7b",
   "metadata": {},
   "outputs": [],
   "source": [
    "#Derive the training, validation, and testing directories\n",
    "TRAIN_PATH = os.path.sep.join([BASE_PATH, \"training\"])\n",
    "VAL_PATH = os.path.sep.join([BASE_PATH, \"validation\"])\n",
    "TEST_PATH = os.path.sep.join([BASE_PATH, \"testing\"])"
   ]
  },
  {
   "cell_type": "code",
   "execution_count": 7,
   "id": "976abe9f",
   "metadata": {},
   "outputs": [],
   "source": [
    "#Define the amount of data that will be used training\n",
    "TRAIN_SPLIT = 0.8\n",
    "\n",
    "#The amount of validation data will be a percentage of the *training* data\n",
    "VAL_SPLIT = 0.1"
   ]
  },
  {
   "cell_type": "code",
   "execution_count": 8,
   "id": "b48742f2",
   "metadata": {},
   "outputs": [],
   "source": [
    "#Grab the paths to all input images in the original input directory and shuffle them\n",
    "\n",
    "imagePaths = list(paths.list_images(ORIG_INPUT_DATASET))\n",
    "random.seed(42)\n",
    "random.shuffle(imagePaths)"
   ]
  },
  {
   "cell_type": "code",
   "execution_count": 9,
   "id": "4dfc6a40",
   "metadata": {},
   "outputs": [],
   "source": [
    "#Compute the training and testing split\n",
    "\n",
    "i = int(len(imagePaths) * TRAIN_SPLIT)\n",
    "trainPaths = imagePaths[:i]\n",
    "testPaths = imagePaths[i:]"
   ]
  },
  {
   "cell_type": "code",
   "execution_count": 10,
   "id": "cfc5d1df",
   "metadata": {},
   "outputs": [],
   "source": [
    "#We'll be using part of the training data for validation\n",
    "\n",
    "i = int(len(trainPaths) * VAL_SPLIT)\n",
    "valPaths = trainPaths[:i]\n",
    "trainPaths = trainPaths[i:]"
   ]
  },
  {
   "cell_type": "code",
   "execution_count": 11,
   "id": "57dfacc3",
   "metadata": {},
   "outputs": [],
   "source": [
    "#Define the datasets that we'll be building\n",
    "\n",
    "datasets = [(\"training\", trainPaths, TRAIN_PATH),(\"validation\", valPaths, VAL_PATH),\n",
    "            (\"testing\", testPaths, TEST_PATH)] "
   ]
  },
  {
   "cell_type": "code",
   "execution_count": 12,
   "id": "f47a06e1",
   "metadata": {},
   "outputs": [
    {
     "name": "stdout",
     "output_type": "stream",
     "text": [
      "[INFO] building 'training' split\n",
      "[INFO] building 'validation' split\n",
      "[INFO] building 'testing' split\n"
     ]
    }
   ],
   "source": [
    "#Loop over the datasets\n",
    "\n",
    "for (dType, imagePaths, baseOutput) in datasets:\n",
    "    #Show which data split we are creating\n",
    "    print(\"[INFO] building '{}' split\".format(dType))\n",
    "    \n",
    "    #If the output base output directory does not exist, create it\n",
    "    if not os.path.exists(baseOutput):\n",
    "        print(\"[INFO] 'creating {}' directory\".format(baseOutput))\n",
    "        os.makedirs(baseOutput)\n",
    "    \n",
    "    #Loop over the input image paths\n",
    "    for inputPath in imagePaths:\n",
    "        \n",
    "        #Extract the filename of the input image and extract the class label 0 for \"negative\" and 1 for \"positive\"\n",
    "        filename = inputPath.split(os.path.sep)[-1]\n",
    "        label = filename[-5:-4]\n",
    "        \n",
    "        #Build the path to the label directory\n",
    "        labelPath = os.path.sep.join([baseOutput, label])\n",
    "        \n",
    "        # If the label output directory does not exist, create it\n",
    "        if not os.path.exists(labelPath):\n",
    "            print(\"[INFO] 'creating {}' directory\".format(labelPath))\n",
    "            os.makedirs(labelPath)\n",
    "        \n",
    "        #Construct the path to the destination image and then copy the image itself\n",
    "        p = os.path.sep.join([labelPath, filename])\n",
    "        shutil.copy2(inputPath, p)"
   ]
  },
  {
   "cell_type": "code",
   "execution_count": 13,
   "id": "cfc9022b",
   "metadata": {},
   "outputs": [],
   "source": [
    "class CancerNet:\n",
    "    @staticmethod\n",
    "    def build(width, height, depth, classes):\n",
    "        \n",
    "        #Initialize the model along with the input shape to be\"channels last\" and the channels dimension itself\n",
    "        model = Sequential()\n",
    "        inputShape = (height, width, depth)\n",
    "        chanDim = -1\n",
    "        \n",
    "        #If we are using \"channels first\", update the input shape and channels dimension\n",
    "        if K.image_data_format() == \"channels_first\":\n",
    "            inputShape = (depth, height, width)\n",
    "            chanDim = 1\n",
    "            \n",
    "        # CONV => RELU => POOL\n",
    "        model.add(SeparableConv2D(32, (3, 3), padding=\"same\",input_shape=inputShape))\n",
    "        model.add(Activation(\"relu\"))\n",
    "        model.add(BatchNormalization(axis=chanDim))\n",
    "        model.add(MaxPooling2D(pool_size=(2, 2)))\n",
    "        model.add(Dropout(0.25))\n",
    "        \n",
    "        #(CONV => RELU => POOL) * 2\n",
    "        model.add(SeparableConv2D(64, (3, 3), padding=\"same\"))\n",
    "        model.add(Activation(\"relu\"))\n",
    "        model.add(BatchNormalization(axis=chanDim))\n",
    "        model.add(SeparableConv2D(64, (3, 3), padding=\"same\"))\n",
    "        model.add(Activation(\"relu\"))\n",
    "        model.add(BatchNormalization(axis=chanDim))\n",
    "        model.add(MaxPooling2D(pool_size=(2, 2)))\n",
    "        model.add(Dropout(0.25))\n",
    "        \n",
    "        # (CONV => RELU => POOL) * 3\n",
    "        model.add(SeparableConv2D(128, (3, 3), padding=\"same\"))\n",
    "        model.add(Activation(\"relu\"))\n",
    "        model.add(BatchNormalization(axis=chanDim))\n",
    "        model.add(SeparableConv2D(128, (3, 3), padding=\"same\"))\n",
    "        model.add(Activation(\"relu\"))\n",
    "        model.add(BatchNormalization(axis=chanDim))\n",
    "        model.add(SeparableConv2D(128, (3, 3), padding=\"same\"))\n",
    "        model.add(Activation(\"relu\"))\n",
    "        model.add(BatchNormalization(axis=chanDim))\n",
    "        model.add(MaxPooling2D(pool_size=(2, 2)))\n",
    "        model.add(Dropout(0.25))\n",
    "        \n",
    "        #First (and only) set of FC => RELU layers\n",
    "        model.add(Flatten())\n",
    "        model.add(Dense(256))\n",
    "        model.add(Activation(\"relu\"))\n",
    "        model.add(BatchNormalization())\n",
    "        model.add(Dropout(0.5))\n",
    "        \n",
    "        #Softmax classifier\n",
    "        model.add(Dense(classes))\n",
    "        model.add(Activation(\"softmax\"))\n",
    "        \n",
    "        return model"
   ]
  },
  {
   "cell_type": "code",
   "execution_count": 14,
   "id": "0d829921",
   "metadata": {},
   "outputs": [],
   "source": [
    "#tf.config.list_physical_devices()\n",
    "\n",
    "os.environ[\"CUDA_VISIBLE_DEVICES\"]=\"0\";"
   ]
  },
  {
   "cell_type": "code",
   "execution_count": 15,
   "id": "afed8207",
   "metadata": {},
   "outputs": [
    {
     "name": "stdout",
     "output_type": "stream",
     "text": [
      "Found 199818 images belonging to 2 classes.\n",
      "Found 22201 images belonging to 2 classes.\n",
      "Found 55505 images belonging to 2 classes.\n"
     ]
    }
   ],
   "source": [
    "#Construct the argument parser and parse the arguments \n",
    "\n",
    "#ap = argparse.ArgumentParser()\n",
    "#ap.add_argument(\"-p\", \"--plot\", type=str, default=\"plot.png\",help=\"path to output loss/accuracy plot\")\n",
    "#args = vars(ap.parse_args())\n",
    "\n",
    "args = easydict.EasyDict({\"p\": \"plot.png\"}) \n",
    "\n",
    "#Initialize our number of epochs, initial learning rate, and batch\n",
    "# size\n",
    "\n",
    "NUM_EPOCHS = 40\n",
    "INIT_LR = 1e-3\n",
    "BS = 32\n",
    "\n",
    "#Determine the total number of image paths in training, validation, and testing directories\n",
    "trainPaths = list(paths.list_images(TRAIN_PATH))\n",
    "totalTrain = len(trainPaths)\n",
    "totalVal = len(list(paths.list_images(VAL_PATH)))\n",
    "totalTest = len(list(paths.list_images(TEST_PATH)))\n",
    "\n",
    "#Calculate the total number of training images in each class and initialize a dictionary to store the class weights\n",
    "trainLabels = [int(p.split(os.path.sep)[-2]) for p in trainPaths]\n",
    "trainLabels = to_categorical(trainLabels)\n",
    "classTotals = trainLabels.sum(axis=0)\n",
    "classWeight = dict()\n",
    "\n",
    "#Loop over all classes and calculate the class weight\n",
    "for i in range(0, len(classTotals)):\n",
    "    classWeight[i] = classTotals.max() / classTotals[i]\n",
    "    #Initialize the training data augmentation object\n",
    "trainAug = ImageDataGenerator(rescale=1 / 255.0, rotation_range=20, zoom_range=0.05,\n",
    "    width_shift_range=0.1, height_shift_range=0.1, shear_range=0.05, horizontal_flip=True,\n",
    "    vertical_flip=True, fill_mode=\"nearest\")\n",
    "\n",
    "# Initialize the validation (and testing) data augmentation object\n",
    "valAug = ImageDataGenerator(rescale=1 / 255.0)\n",
    "\n",
    "#Initialize the training generator\n",
    "trainGen = trainAug.flow_from_directory(TRAIN_PATH, class_mode=\"categorical\", target_size=(48, 48),\n",
    "    color_mode=\"rgb\", shuffle=True, batch_size=BS)\n",
    "\n",
    "#Initialize the validation generator\n",
    "valGen = valAug.flow_from_directory(VAL_PATH, class_mode=\"categorical\", target_size=(48, 48),\n",
    "    color_mode=\"rgb\",shuffle=False, batch_size=BS)\n",
    "\n",
    "#Initialize the testing generator\n",
    "testGen = valAug.flow_from_directory(TEST_PATH, class_mode=\"categorical\", target_size=(48, 48),\n",
    "    color_mode=\"rgb\", shuffle=False, batch_size=BS)"
   ]
  },
  {
   "cell_type": "code",
   "execution_count": 16,
   "id": "edcae48e",
   "metadata": {},
   "outputs": [
    {
     "name": "stderr",
     "output_type": "stream",
     "text": [
      "2023-03-19 22:30:56.093675: E tensorflow/compiler/xla/stream_executor/cuda/cuda_driver.cc:267] failed call to cuInit: CUDA_ERROR_SYSTEM_DRIVER_MISMATCH: system has unsupported display driver / cuda driver combination\n",
      "2023-03-19 22:30:56.107244: I tensorflow/compiler/xla/stream_executor/cuda/cuda_diagnostics.cc:169] retrieving CUDA diagnostic information for host: haghob\n",
      "2023-03-19 22:30:56.107277: I tensorflow/compiler/xla/stream_executor/cuda/cuda_diagnostics.cc:176] hostname: haghob\n",
      "2023-03-19 22:30:56.108651: I tensorflow/compiler/xla/stream_executor/cuda/cuda_diagnostics.cc:200] libcuda reported version is: 510.108.3\n",
      "2023-03-19 22:30:56.109313: I tensorflow/compiler/xla/stream_executor/cuda/cuda_diagnostics.cc:204] kernel reported version is: 525.60.13\n",
      "2023-03-19 22:30:56.109347: E tensorflow/compiler/xla/stream_executor/cuda/cuda_diagnostics.cc:313] kernel version 525.60.13 does not match DSO version 510.108.3 -- cannot find working devices in this configuration\n",
      "2023-03-19 22:30:56.129940: I tensorflow/core/platform/cpu_feature_guard.cc:193] This TensorFlow binary is optimized with oneAPI Deep Neural Network Library (oneDNN) to use the following CPU instructions in performance-critical operations:  AVX2 FMA\n",
      "To enable them in other operations, rebuild TensorFlow with the appropriate compiler flags.\n"
     ]
    },
    {
     "name": "stdout",
     "output_type": "stream",
     "text": [
      "Epoch 1/40\n",
      "6244/6244 [==============================] - 738s 118ms/step - loss: 0.5960 - accuracy: 0.8193 - val_loss: 0.4679 - val_accuracy: 0.8143\n",
      "Epoch 2/40\n",
      "6244/6244 [==============================] - 758s 121ms/step - loss: 0.5342 - accuracy: 0.8380 - val_loss: 0.4591 - val_accuracy: 0.8172\n",
      "Epoch 3/40\n",
      "6244/6244 [==============================] - 763s 122ms/step - loss: 0.5145 - accuracy: 0.8445 - val_loss: 0.5379 - val_accuracy: 0.7861\n",
      "Epoch 4/40\n",
      "6244/6244 [==============================] - 762s 122ms/step - loss: 0.5128 - accuracy: 0.8456 - val_loss: 0.6086 - val_accuracy: 0.7334\n",
      "Epoch 5/40\n",
      "6244/6244 [==============================] - 718s 115ms/step - loss: 0.5045 - accuracy: 0.8480 - val_loss: 0.3506 - val_accuracy: 0.8699\n",
      "Epoch 6/40\n",
      "6244/6244 [==============================] - 733s 117ms/step - loss: 0.4984 - accuracy: 0.8502 - val_loss: 0.7087 - val_accuracy: 0.7634\n",
      "Epoch 7/40\n",
      "6244/6244 [==============================] - 689s 110ms/step - loss: 0.4917 - accuracy: 0.8523 - val_loss: 0.3418 - val_accuracy: 0.8537\n",
      "Epoch 8/40\n",
      "6244/6244 [==============================] - 749s 120ms/step - loss: 0.4876 - accuracy: 0.8535 - val_loss: 0.4075 - val_accuracy: 0.8163\n",
      "Epoch 9/40\n",
      "6244/6244 [==============================] - 736s 118ms/step - loss: 0.4837 - accuracy: 0.8545 - val_loss: 0.3990 - val_accuracy: 0.8563\n",
      "Epoch 10/40\n",
      "6244/6244 [==============================] - 712s 114ms/step - loss: 0.4803 - accuracy: 0.8571 - val_loss: 0.7132 - val_accuracy: 0.7927\n",
      "Epoch 11/40\n",
      "6244/6244 [==============================] - 710s 114ms/step - loss: 0.4779 - accuracy: 0.8579 - val_loss: 0.3869 - val_accuracy: 0.8669\n",
      "Epoch 12/40\n",
      "6244/6244 [==============================] - 708s 113ms/step - loss: 0.4738 - accuracy: 0.8589 - val_loss: 1.0552 - val_accuracy: 0.7404\n",
      "Epoch 13/40\n",
      "6244/6244 [==============================] - 713s 114ms/step - loss: 0.4733 - accuracy: 0.8592 - val_loss: 0.4350 - val_accuracy: 0.8036\n",
      "Epoch 14/40\n",
      "6244/6244 [==============================] - 709s 114ms/step - loss: 0.4702 - accuracy: 0.8603 - val_loss: 0.6527 - val_accuracy: 0.6982\n",
      "Epoch 15/40\n",
      "6244/6244 [==============================] - 709s 114ms/step - loss: 0.4767 - accuracy: 0.8579 - val_loss: 0.4105 - val_accuracy: 0.8162\n",
      "Epoch 16/40\n",
      "6244/6244 [==============================] - 709s 113ms/step - loss: 0.4702 - accuracy: 0.8593 - val_loss: 0.3813 - val_accuracy: 0.8419\n",
      "Epoch 17/40\n",
      "6244/6244 [==============================] - 709s 114ms/step - loss: 0.4652 - accuracy: 0.8614 - val_loss: 0.3284 - val_accuracy: 0.8593\n",
      "Epoch 18/40\n",
      "6244/6244 [==============================] - 725s 116ms/step - loss: 0.4665 - accuracy: 0.8611 - val_loss: 0.8467 - val_accuracy: 0.8163\n",
      "Epoch 19/40\n",
      "6244/6244 [==============================] - 735s 118ms/step - loss: 0.4673 - accuracy: 0.8613 - val_loss: 0.3444 - val_accuracy: 0.8683\n",
      "Epoch 20/40\n",
      "6244/6244 [==============================] - 738s 118ms/step - loss: 0.4626 - accuracy: 0.8619 - val_loss: 0.5153 - val_accuracy: 0.8611\n",
      "Epoch 21/40\n",
      "6244/6244 [==============================] - 743s 119ms/step - loss: 0.4627 - accuracy: 0.8624 - val_loss: 0.3759 - val_accuracy: 0.8419\n",
      "Epoch 22/40\n",
      "6244/6244 [==============================] - 744s 119ms/step - loss: 0.4611 - accuracy: 0.8623 - val_loss: 0.3945 - val_accuracy: 0.8282\n",
      "Epoch 23/40\n",
      "6244/6244 [==============================] - 740s 119ms/step - loss: 0.4618 - accuracy: 0.8626 - val_loss: 0.4138 - val_accuracy: 0.8053\n",
      "Epoch 24/40\n",
      "6244/6244 [==============================] - 741s 119ms/step - loss: 0.4565 - accuracy: 0.8648 - val_loss: 0.5731 - val_accuracy: 0.7475\n",
      "Epoch 25/40\n",
      "6244/6244 [==============================] - 742s 119ms/step - loss: 0.4535 - accuracy: 0.8647 - val_loss: 0.4686 - val_accuracy: 0.7930\n",
      "Epoch 26/40\n",
      "6244/6244 [==============================] - 743s 119ms/step - loss: 0.4536 - accuracy: 0.8654 - val_loss: 0.5096 - val_accuracy: 0.8483\n",
      "Epoch 27/40\n",
      "6244/6244 [==============================] - 743s 119ms/step - loss: 0.4571 - accuracy: 0.8640 - val_loss: 1.6326 - val_accuracy: 0.7018\n",
      "Epoch 28/40\n",
      "6244/6244 [==============================] - 745s 119ms/step - loss: 0.4487 - accuracy: 0.8658 - val_loss: 0.5218 - val_accuracy: 0.7888\n",
      "Epoch 29/40\n",
      "6244/6244 [==============================] - 744s 119ms/step - loss: 0.4481 - accuracy: 0.8672 - val_loss: 0.6316 - val_accuracy: 0.7620\n",
      "Epoch 30/40\n",
      "6244/6244 [==============================] - 744s 119ms/step - loss: 0.4582 - accuracy: 0.8642 - val_loss: 0.4093 - val_accuracy: 0.8186\n",
      "Epoch 31/40\n",
      "6244/6244 [==============================] - 748s 120ms/step - loss: 0.4594 - accuracy: 0.8639 - val_loss: 0.7776 - val_accuracy: 0.7443\n",
      "Epoch 32/40\n",
      "6244/6244 [==============================] - 744s 119ms/step - loss: 0.4554 - accuracy: 0.8651 - val_loss: 1.7880 - val_accuracy: 0.7561\n",
      "Epoch 33/40\n",
      "6244/6244 [==============================] - 746s 119ms/step - loss: 0.4580 - accuracy: 0.8637 - val_loss: 0.6713 - val_accuracy: 0.8264\n",
      "Epoch 34/40\n",
      "6244/6244 [==============================] - 745s 119ms/step - loss: 0.4568 - accuracy: 0.8644 - val_loss: 0.4452 - val_accuracy: 0.8004\n",
      "Epoch 35/40\n",
      "6244/6244 [==============================] - 745s 119ms/step - loss: 0.4549 - accuracy: 0.8643 - val_loss: 1.3620 - val_accuracy: 0.7839\n",
      "Epoch 36/40\n",
      "6244/6244 [==============================] - 749s 120ms/step - loss: 0.4520 - accuracy: 0.8664 - val_loss: 0.7532 - val_accuracy: 0.7767\n",
      "Epoch 37/40\n",
      "6244/6244 [==============================] - 755s 121ms/step - loss: 0.4503 - accuracy: 0.8666 - val_loss: 0.7615 - val_accuracy: 0.7558\n",
      "Epoch 38/40\n",
      "6244/6244 [==============================] - 755s 121ms/step - loss: 0.4534 - accuracy: 0.8647 - val_loss: 0.5500 - val_accuracy: 0.8138\n",
      "Epoch 39/40\n",
      "6244/6244 [==============================] - 758s 121ms/step - loss: 0.4465 - accuracy: 0.8667 - val_loss: 0.4544 - val_accuracy: 0.7995\n",
      "Epoch 40/40\n",
      "6244/6244 [==============================] - 759s 122ms/step - loss: 0.4461 - accuracy: 0.8680 - val_loss: 0.3644 - val_accuracy: 0.8539\n"
     ]
    }
   ],
   "source": [
    "'''model = CancerNet.build(width=48, height=48, depth=3,classes=2)\n",
    "\n",
    "#Here we are testing Adagrad as optimizer\n",
    "opt = Adam(learning_rate=INIT_LR, decay=INIT_LR / NUM_EPOCHS)\n",
    "\n",
    "model.compile(loss=\"binary_crossentropy\", optimizer=opt, metrics=[\"accuracy\"])\n",
    "#Fit the model\n",
    "\n",
    "H = model.fit(x=trainGen, steps_per_epoch=totalTrain // BS,\n",
    "    validation_data=valGen,validation_steps=totalVal // BS,\n",
    "    class_weight=classWeight,epochs=NUM_EPOCHS)'''\n",
    "\n",
    "\n",
    "from tensorflow.keras.optimizers import Adam\n",
    "\n",
    "model = CancerNet.build(width=48, height=48, depth=3, classes=2)\n",
    "\n",
    "opt = Adam(learning_rate=INIT_LR)\n",
    "\n",
    "model.compile(loss=\"binary_crossentropy\", optimizer=opt, metrics=[\"accuracy\"])\n",
    "\n",
    "H = model.fit(x=trainGen, steps_per_epoch=totalTrain // BS,\n",
    "    validation_data=valGen, validation_steps=totalVal // BS,\n",
    "    class_weight=classWeight, epochs=NUM_EPOCHS)\n",
    "\n"
   ]
  },
  {
   "cell_type": "code",
   "execution_count": 17,
   "id": "0bf35646",
   "metadata": {},
   "outputs": [],
   "source": [
    "model.save('/home/haghob/Documents/ydays_project/CancerNet.h5') \n",
    "np.save('CancerNet.npy',H.history) "
   ]
  },
  {
   "cell_type": "code",
   "execution_count": 18,
   "id": "9934a024",
   "metadata": {},
   "outputs": [],
   "source": [
    "model = keras.models.load_model('/home/haghob/Documents/ydays_project/CancerNet.h5')\n",
    "history=np.load('CancerNet.npy',allow_pickle='TRUE').item()"
   ]
  },
  {
   "cell_type": "markdown",
   "metadata": {},
   "source": [
    "#Reset the testing generator and then use our trained model to make predictions on the data\n",
    "print(\"[INFO] evaluating network...\")\n",
    "testGen.reset()\n",
    "predIdxs = model.predict(x=testGen, steps=(totalTest // BS) + 1)\n",
    "\n",
    "#For each image in the testing set we need to find the index of the label with corresponding largest predicted probability\n",
    "predIdxs = np.argmax(predIdxs, axis=1)\n",
    "\n",
    "#Show a nicely formatted classification report\n",
    "print(classification_report(testGen.classes, predIdxs,target_names=testGen.class_indices.keys()))"
   ]
  },
  {
   "cell_type": "code",
   "execution_count": 25,
   "id": "b4f1e664",
   "metadata": {},
   "outputs": [
    {
     "name": "stdout",
     "output_type": "stream",
     "text": [
      "[INFO] evaluating network...\n",
      "1735/1735 [==============================] - 60s 34ms/step\n",
      "              precision    recall  f1-score   support\n",
      "\n",
      "           0       0.96      0.83      0.89     39624\n",
      "           1       0.68      0.91      0.78     15881\n",
      "\n",
      "    accuracy                           0.85     55505\n",
      "   macro avg       0.82      0.87      0.84     55505\n",
      "weighted avg       0.88      0.85      0.86     55505\n",
      "\n"
     ]
    }
   ],
   "source": [
    "# Reset the testing generator and then use our trained model to make predictions on the data\n",
    "print(\"[INFO] evaluating network...\")\n",
    "\n",
    "testGen.reset()\n",
    "predIdxs = model.predict(x=testGen, steps=(totalTest // BS) + 1)\n",
    "\n",
    "#For each image in the testing set we need to find the index of the label with corresponding largest predicted probability\n",
    "predIdxs = np.argmax(predIdxs, axis=1)\n",
    "\n",
    "#Show a nicely formatted classification report\n",
    "print(classification_report(testGen.classes, predIdxs,target_names=testGen.class_indices.keys()))"
   ]
  },
  {
   "cell_type": "code",
   "execution_count": 26,
   "metadata": {},
   "outputs": [
    {
     "name": "stdout",
     "output_type": "stream",
     "text": [
      "[[32947  6677]\n",
      " [ 1417 14464]]\n",
      "acc: 0.8542\n",
      "sensitivity: 0.8315\n",
      "specificity: 0.9108\n"
     ]
    }
   ],
   "source": [
    "#Compute the confusion matrix and and use it to derive the raw accuracy, sensitivity, and specificity\n",
    "cm = confusion_matrix(testGen.classes, predIdxs)\n",
    "total = sum(sum(cm))\n",
    "acc = (cm[0, 0] + cm[1, 1]) / total\n",
    "sensitivity = cm[0, 0] / (cm[0, 0] + cm[0, 1])\n",
    "specificity = cm[1, 1] / (cm[1, 0] + cm[1, 1])\n",
    "\n",
    "#Show the confusion matrix, accuracy, sensitivity, and specificity\n",
    "print(cm)\n",
    "print(\"acc: {:.4f}\".format(acc))\n",
    "print(\"sensitivity: {:.4f}\".format(sensitivity))\n",
    "print(\"specificity: {:.4f}\".format(specificity))"
   ]
  },
  {
   "cell_type": "code",
   "execution_count": 30,
   "metadata": {},
   "outputs": [
    {
     "data": {
      "text/plain": [
       "<Figure size 640x480 with 0 Axes>"
      ]
     },
     "execution_count": 30,
     "metadata": {},
     "output_type": "execute_result"
    }
   ],
   "source": [
    "#Plot the training loss and accuracy\n",
    "\n",
    "N = NUM_EPOCHS\n",
    "plt.style.use(\"ggplot\")\n",
    "plt.figure()"
   ]
  },
  {
   "cell_type": "code",
   "execution_count": 34,
   "id": "1d0d17be",
   "metadata": {},
   "outputs": [
    {
     "data": {
      "text/plain": [
       "[<matplotlib.lines.Line2D at 0x7fd6f1c9dba0>]"
      ]
     },
     "execution_count": 34,
     "metadata": {},
     "output_type": "execute_result"
    }
   ],
   "source": [
    "plt.plot(np.arange(0, N), history[\"loss\"], label=\"train_loss\")\n",
    "plt.plot(np.arange(0, N), history[\"val_loss\"], label=\"val_loss\")\n",
    "#plt.plot(np.arange(0, N), history[\"acc\"], label=\"train_acc\")\n",
    "#plt.plot(np.arange(0, N), history[\"val_acc\"], label=\"val_acc\")  "
   ]
  },
  {
   "cell_type": "code",
   "execution_count": 35,
   "id": "3a28644c",
   "metadata": {},
   "outputs": [],
   "source": [
    "plt.title(\"Training Loss and Accuracy on Dataset\")\n",
    "plt.xlabel(\"Epoch #\")\n",
    "plt.ylabel(\"Loss/Accuracy\")\n",
    "plt.legend(loc=\"lower left\")\n",
    "plt.savefig(args[\"p\"])"
   ]
  },
  {
   "cell_type": "code",
   "execution_count": 36,
   "metadata": {
    "scrolled": false
   },
   "outputs": [
    {
     "name": "stdout",
     "output_type": "stream",
     "text": [
      "Model: \"sequential\"\n",
      "_________________________________________________________________\n",
      " Layer (type)                Output Shape              Param #   \n",
      "=================================================================\n",
      " separable_conv2d (Separable  (None, 48, 48, 32)       155       \n",
      " Conv2D)                                                         \n",
      "                                                                 \n",
      " activation (Activation)     (None, 48, 48, 32)        0         \n",
      "                                                                 \n",
      " batch_normalization (BatchN  (None, 48, 48, 32)       128       \n",
      " ormalization)                                                   \n",
      "                                                                 \n",
      " max_pooling2d (MaxPooling2D  (None, 24, 24, 32)       0         \n",
      " )                                                               \n",
      "                                                                 \n",
      " dropout (Dropout)           (None, 24, 24, 32)        0         \n",
      "                                                                 \n",
      " separable_conv2d_1 (Separab  (None, 24, 24, 64)       2400      \n",
      " leConv2D)                                                       \n",
      "                                                                 \n",
      " activation_1 (Activation)   (None, 24, 24, 64)        0         \n",
      "                                                                 \n",
      " batch_normalization_1 (Batc  (None, 24, 24, 64)       256       \n",
      " hNormalization)                                                 \n",
      "                                                                 \n",
      " separable_conv2d_2 (Separab  (None, 24, 24, 64)       4736      \n",
      " leConv2D)                                                       \n",
      "                                                                 \n",
      " activation_2 (Activation)   (None, 24, 24, 64)        0         \n",
      "                                                                 \n",
      " batch_normalization_2 (Batc  (None, 24, 24, 64)       256       \n",
      " hNormalization)                                                 \n",
      "                                                                 \n",
      " max_pooling2d_1 (MaxPooling  (None, 12, 12, 64)       0         \n",
      " 2D)                                                             \n",
      "                                                                 \n",
      " dropout_1 (Dropout)         (None, 12, 12, 64)        0         \n",
      "                                                                 \n",
      " separable_conv2d_3 (Separab  (None, 12, 12, 128)      8896      \n",
      " leConv2D)                                                       \n",
      "                                                                 \n",
      " activation_3 (Activation)   (None, 12, 12, 128)       0         \n",
      "                                                                 \n",
      " batch_normalization_3 (Batc  (None, 12, 12, 128)      512       \n",
      " hNormalization)                                                 \n",
      "                                                                 \n",
      " separable_conv2d_4 (Separab  (None, 12, 12, 128)      17664     \n",
      " leConv2D)                                                       \n",
      "                                                                 \n",
      " activation_4 (Activation)   (None, 12, 12, 128)       0         \n",
      "                                                                 \n",
      " batch_normalization_4 (Batc  (None, 12, 12, 128)      512       \n",
      " hNormalization)                                                 \n",
      "                                                                 \n",
      " separable_conv2d_5 (Separab  (None, 12, 12, 128)      17664     \n",
      " leConv2D)                                                       \n",
      "                                                                 \n",
      " activation_5 (Activation)   (None, 12, 12, 128)       0         \n",
      "                                                                 \n",
      " batch_normalization_5 (Batc  (None, 12, 12, 128)      512       \n",
      " hNormalization)                                                 \n",
      "                                                                 \n",
      " max_pooling2d_2 (MaxPooling  (None, 6, 6, 128)        0         \n",
      " 2D)                                                             \n",
      "                                                                 \n",
      " dropout_2 (Dropout)         (None, 6, 6, 128)         0         \n",
      "                                                                 \n",
      " flatten (Flatten)           (None, 4608)              0         \n",
      "                                                                 \n",
      " dense (Dense)               (None, 256)               1179904   \n",
      "                                                                 \n",
      " activation_6 (Activation)   (None, 256)               0         \n",
      "                                                                 \n",
      " batch_normalization_6 (Batc  (None, 256)              1024      \n",
      " hNormalization)                                                 \n",
      "                                                                 \n",
      " dropout_3 (Dropout)         (None, 256)               0         \n",
      "                                                                 \n",
      " dense_1 (Dense)             (None, 2)                 514       \n",
      "                                                                 \n",
      " activation_7 (Activation)   (None, 2)                 0         \n",
      "                                                                 \n",
      "=================================================================\n",
      "Total params: 1,235,133\n",
      "Trainable params: 1,233,533\n",
      "Non-trainable params: 1,600\n",
      "_________________________________________________________________\n"
     ]
    }
   ],
   "source": [
    "model.summary()"
   ]
  },
  {
   "cell_type": "code",
   "execution_count": null,
   "metadata": {},
   "outputs": [],
   "source": []
  }
 ],
 "metadata": {
  "kernelspec": {
   "display_name": "Python 3",
   "language": "python",
   "name": "python3"
  },
  "language_info": {
   "codemirror_mode": {
    "name": "ipython",
    "version": 3
   },
   "file_extension": ".py",
   "mimetype": "text/x-python",
   "name": "python",
   "nbconvert_exporter": "python",
   "pygments_lexer": "ipython3",
   "version": "3.10.6"
  }
 },
 "nbformat": 4,
 "nbformat_minor": 5
}
