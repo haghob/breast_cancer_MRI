{
 "cells": [
  {
   "cell_type": "markdown",
   "metadata": {},
   "source": [
    "The dataset contains informations on patients with lung cancer, including their :\n",
    "**age**,\n",
    "\n",
    "**gender** \n",
    "\n",
    "**air pollution exposure**\n",
    "\n",
    "**alcohol use** \n",
    "\n",
    "**dust allergy** \n",
    "\n",
    "**occupational hazards** \n",
    "\n",
    "**genetic risk** \n",
    "\n",
    "**chronic lung disease** \n",
    "\n",
    "**balanced diet** \n",
    "\n",
    "**obesity** \n",
    "\n",
    "**smoking** \n",
    "\n",
    "**passive smoker** \n",
    "\n",
    "**chest pain** \n",
    "\n",
    "**coughing of blood** \n",
    "\n",
    "**fatigue** \n",
    "\n",
    "**weight loss** \n",
    "\n",
    "**shortness of breath** \n",
    "\n",
    "**wheezing** \n",
    "\n",
    "**swallowing difficulty** \n",
    "\n",
    "**clubbing of finger nails and snoring**"
   ]
  },
  {
   "cell_type": "code",
   "execution_count": null,
   "metadata": {},
   "outputs": [],
   "source": []
  },
  {
   "cell_type": "code",
   "execution_count": null,
   "metadata": {},
   "outputs": [],
   "source": []
  },
  {
   "cell_type": "code",
   "execution_count": null,
   "metadata": {},
   "outputs": [],
   "source": []
  }
 ],
 "metadata": {
  "kernelspec": {
   "display_name": "Python 3 (ipykernel)",
   "language": "python",
   "name": "python3"
  },
  "language_info": {
   "codemirror_mode": {
    "name": "ipython",
    "version": 3
   },
   "file_extension": ".py",
   "mimetype": "text/x-python",
   "name": "python",
   "nbconvert_exporter": "python",
   "pygments_lexer": "ipython3",
   "version": "3.7.6"
  }
 },
 "nbformat": 4,
 "nbformat_minor": 4
}
